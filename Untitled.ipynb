{
 "cells": [
  {
   "cell_type": "code",
   "execution_count": 12,
   "id": "f9be0b8d-ba32-48d5-8089-29672bdad50a",
   "metadata": {},
   "outputs": [
    {
     "name": "stdout",
     "output_type": "stream",
     "text": [
      "0.0\n"
     ]
    }
   ],
   "source": [
    "import numpy as np\n",
    "import sys\n",
    "def function_sin(x):                     \n",
    "    np.sin(x)\n",
    "    return np.sin(x)\n",
    "\n",
    "print(function_sin(0))"
   ]
  },
  {
   "cell_type": "markdown",
   "id": "d7aa7b33-3890-4c7f-9496-b40b795d31c0",
   "metadata": {},
   "source": [
    "def function_cos(x):                         #This starts the definition of function of cos(x)\n",
    "    np.cos(x)                            \n",
    "    return np.cos(x)                                  #This will return to the cos(x) original value/stores the cos(x) value\n",
    "\n",
    "\n",
    "def function_sin(x):                        This will start the definition of sin(x)\n",
    "    np.sin(x)\n",
    "    return np.sin(x)                        This will return sin(x) back to original value and store the original value."
   ]
  },
  {
   "cell_type": "code",
   "execution_count": 13,
   "id": "faf3ac9e-9d1d-4f75-b5e9-2e6999baab76",
   "metadata": {},
   "outputs": [
    {
     "name": "stdout",
     "output_type": "stream",
     "text": [
      "1.0\n"
     ]
    }
   ],
   "source": [
    "def function_cos(x): \n",
    "    np.cos(x)\n",
    "    return np.cos(x) \n",
    "\n",
    "print(function_cos(0))"
   ]
  },
  {
   "cell_type": "markdown",
   "id": "025c633c-2fc2-484d-962b-6fdf67ef9cd7",
   "metadata": {},
   "source": [
    "step = np.pi /6 this defines the incraments we need to take in order to get to 2 pi\n",
    "the function below makes the table go to 2 pi by incraments of 30^o (pi/6)"
   ]
  },
  {
   "cell_type": "code",
   "execution_count": 18,
   "id": "296dd678-0c86-4703-b7b3-10a0b7f9b2a3",
   "metadata": {},
   "outputs": [
    {
     "name": "stdout",
     "output_type": "stream",
     "text": [
      "[0.         0.52359878 1.04719755 1.57079633 2.0943951  2.61799388\n",
      " 3.14159265 3.66519143 4.1887902  4.71238898 5.23598776 5.75958653\n",
      " 6.28318531]\n"
     ]
    }
   ],
   "source": [
    "step = np.pi /6\n",
    "x_values = np.arange(0,2 *np.pi + step / 2, step)\n",
    "\n",
    "print(x_values)"
   ]
  },
  {
   "cell_type": "code",
   "execution_count": 41,
   "id": "39a51e13-dbfb-4c58-b9a3-99dd5e84f65f",
   "metadata": {},
   "outputs": [
    {
     "ename": "TypeError",
     "evalue": "object of type 'numpy.float64' has no len()",
     "output_type": "error",
     "traceback": [
      "\u001b[31m---------------------------------------------------------------------------\u001b[39m",
      "\u001b[31mTypeError\u001b[39m                                 Traceback (most recent call last)",
      "\u001b[36mCell\u001b[39m\u001b[36m \u001b[39m\u001b[32mIn[41]\u001b[39m\u001b[32m, line 8\u001b[39m\n\u001b[32m      5\u001b[39m sinx = np.sin(x)\n\u001b[32m      6\u001b[39m cosx = np.cos(x)\n\u001b[32m----> \u001b[39m\u001b[32m8\u001b[39m \u001b[38;5;28mprint\u001b[39m(\u001b[38;5;28;43mlen\u001b[39;49m\u001b[43m(\u001b[49m\u001b[43msinx\u001b[49m\u001b[43m)\u001b[49m, \u001b[38;5;28mlen\u001b[39m(cosx))\n\u001b[32m      9\u001b[39m \u001b[38;5;28mprint\u001b[39m(x[\u001b[32m10\u001b[39m])\n\u001b[32m     10\u001b[39m \u001b[38;5;28mprint\u001b[39m(x[-\u001b[32m1\u001b[39m])\n",
      "\u001b[31mTypeError\u001b[39m: object of type 'numpy.float64' has no len()"
     ]
    }
   ],
   "source": [
    "def main():\n",
    "    num_points=1000\n",
    "    x = np.linspace(0, 2 * np.pi, 1000)\n",
    "\n",
    "sinx = np.sin(x)\n",
    "cosx = np.cos(x)\n",
    "\n",
    "print(len(sinx), len(cosx))\n",
    "print(x[10])\n",
    "print(x[-1])\n",
    "\n",
    "\n",
    "\n",
    "    \n"
   ]
  },
  {
   "cell_type": "code",
   "execution_count": null,
   "id": "323237b0-7cd4-49e0-bd33-fcfecdc75823",
   "metadata": {},
   "outputs": [],
   "source": []
  }
 ],
 "metadata": {
  "kernelspec": {
   "display_name": "Python 3 (ipykernel)",
   "language": "python",
   "name": "python3"
  },
  "language_info": {
   "codemirror_mode": {
    "name": "ipython",
    "version": 3
   },
   "file_extension": ".py",
   "mimetype": "text/x-python",
   "name": "python",
   "nbconvert_exporter": "python",
   "pygments_lexer": "ipython3",
   "version": "3.13.7"
  }
 },
 "nbformat": 4,
 "nbformat_minor": 5
}
